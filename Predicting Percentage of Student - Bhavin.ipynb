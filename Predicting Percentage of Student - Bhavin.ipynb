{
 "cells": [
  {
   "cell_type": "markdown",
   "id": "timely-saskatchewan",
   "metadata": {},
   "source": [
    "### Here we are solving the problem of Simple Linear Regression for the Student's Reading Duration Dataset and predicting the perticular outcome by inputting the hours of reading. "
   ]
  },
  {
   "cell_type": "markdown",
   "id": "russian-content",
   "metadata": {},
   "source": [
    "#### We have given the data sourse of the student's reading hour and score data file on \"http://bit.ly/w-data\""
   ]
  },
  {
   "cell_type": "code",
   "execution_count": 1,
   "id": "quarterly-worse",
   "metadata": {},
   "outputs": [],
   "source": [
    "# importing some important libraries\n",
    "import numpy as np\n",
    "import pandas as pd\n",
    "import matplotlib.pyplot as plt\n",
    "import seaborn as sns\n",
    "from sklearn.model_selection import train_test_split\n",
    "from sklearn.linear_model import LinearRegression\n",
    "from sklearn.preprocessing import StandardScaler\n",
    "from sklearn.metrics import mean_absolute_error        # We are using mean_absolute_error to evaluate our fitted model."
   ]
  },
  {
   "cell_type": "code",
   "execution_count": null,
   "id": "aggregate-challenge",
   "metadata": {},
   "outputs": [],
   "source": [
    "# We are importing the data from given url and store the dataset to offline drive and retrive it from offline.\n",
    "url = \"http://bit.ly/w-data\"\n",
    "dataset = pd.read_csv(url)\n",
    "\n",
    "#online_data.to_csv(r\"C:\\Users\\Bhavin\\PycharmProjects\\GRIP Internship\\student_dataset.csv\", index=False)\n",
    "#dataset = pd.read_csv(r\"C:\\Users\\Bhavin\\PycharmProjects\\GRIP Internship\\student_dataset.csv\")\n",
    "#print(dataset) # Displaying full dataset"
   ]
  },
  {
   "cell_type": "code",
   "execution_count": null,
   "id": "preliminary-actor",
   "metadata": {},
   "outputs": [],
   "source": [
    "# Looking for the shape of student_dataset\n",
    "dataset.shape"
   ]
  },
  {
   "cell_type": "code",
   "execution_count": null,
   "id": "varying-cabin",
   "metadata": {},
   "outputs": [],
   "source": [
    "# Lets Create Joitplot for making the data visually more understandable.\n",
    "sns.jointplot(x='Hours', y='Scores', data=dataset)"
   ]
  },
  {
   "cell_type": "code",
   "execution_count": null,
   "id": "alive-scratch",
   "metadata": {},
   "outputs": [],
   "source": [
    "# Let first check the relation of both variables with each other by using simple plot diagram as checked in Jointplot.\n",
    "dataset.plot(x='Hours', y='Scores', style='*', color='red')\n",
    "plt.xlabel(\"Studied Hours\")\n",
    "plt.ylabel(\"Score in Percentage\")\n",
    "plt.title(\"Studied Hours Vs Score in Percentage\")\n",
    "plt.show()"
   ]
  },
  {
   "cell_type": "markdown",
   "id": "coordinated-buddy",
   "metadata": {},
   "source": [
    "Since both the variable are in the tightly bond with each other in positive manner we will now making model fitting on Simple Linear Regression Model."
   ]
  },
  {
   "cell_type": "markdown",
   "id": "voluntary-teddy",
   "metadata": {},
   "source": [
    "##### Defining X and y features"
   ]
  },
  {
   "cell_type": "code",
   "execution_count": null,
   "id": "measured-workshop",
   "metadata": {},
   "outputs": [],
   "source": [
    "dataset.columns    # Displays the collumn names of the Student_Dataset."
   ]
  },
  {
   "cell_type": "code",
   "execution_count": null,
   "id": "terminal-vancouver",
   "metadata": {},
   "outputs": [],
   "source": [
    "#X = dataset[['Hours']]\n",
    "#y = dataset['Scores']\n",
    "\n",
    "X = dataset.iloc[:, :-1].values\n",
    "y = dataset.iloc[:, 1].values"
   ]
  },
  {
   "cell_type": "markdown",
   "id": "friendly-migration",
   "metadata": {},
   "source": [
    "Data are now devided in to Attributes(X) and Lables(y)"
   ]
  },
  {
   "cell_type": "code",
   "execution_count": null,
   "id": "dedicated-access",
   "metadata": {},
   "outputs": [],
   "source": [
    "# Let just check the Shape of both the X and y features.\n",
    "print(f\"Shape of X : {X.shape} and Shape of y : {y.shape}\")"
   ]
  },
  {
   "cell_type": "code",
   "execution_count": null,
   "id": "waiting-replacement",
   "metadata": {},
   "outputs": [],
   "source": [
    "# Lets split out dataset into training and testing sets. (in 20:80 ratio)\n",
    "\n",
    "X_train,X_test,y_train,y_test=train_test_split(X,y,test_size=0.20,random_state=42)"
   ]
  },
  {
   "cell_type": "markdown",
   "id": "expensive-court",
   "metadata": {},
   "source": [
    "We have splitted our data into train and test"
   ]
  },
  {
   "cell_type": "code",
   "execution_count": null,
   "id": "infectious-thesis",
   "metadata": {},
   "outputs": [],
   "source": [
    "# lets see the exact splitted shape for all variables.\n",
    "print(\"Shape of X_train is : \",X_train.shape)\n",
    "print(\"Shape of y_train is : \",y_train.shape)\n",
    "print(\"Shape of X_test is : \",X_test.shape)\n",
    "print(\"Shape of y_test is : \",y_test.shape)"
   ]
  },
  {
   "cell_type": "markdown",
   "id": "hydraulic-deposit",
   "metadata": {},
   "source": [
    "### Lets fit the Linear Regression Model using above data"
   ]
  },
  {
   "cell_type": "code",
   "execution_count": null,
   "id": "realistic-dallas",
   "metadata": {},
   "outputs": [],
   "source": [
    "# We are creating the object of the model as lr (i.e. LinearRegression)\n",
    "lr = LinearRegression()"
   ]
  },
  {
   "cell_type": "code",
   "execution_count": null,
   "id": "quick-stomach",
   "metadata": {},
   "outputs": [],
   "source": [
    "# Lets fit the model with trainin data we have splited earlier.\n",
    "lr.fit(X_train, y_train)"
   ]
  },
  {
   "cell_type": "markdown",
   "id": "chinese-mexican",
   "metadata": {},
   "source": [
    "Now we are ultimately fitting the Linear Regression line as \" y = m(x) + c \"\n",
    "\n",
    "Where,\n",
    "m is the coefficient of the fitted model, and\n",
    "c it the intercept.\n",
    "\n",
    "lets fit the same in to line by making equation."
   ]
  },
  {
   "cell_type": "code",
   "execution_count": null,
   "id": "impressed-season",
   "metadata": {},
   "outputs": [],
   "source": [
    "m = lr.coef_\n",
    "print(\"Coefficient is : \",m)"
   ]
  },
  {
   "cell_type": "code",
   "execution_count": null,
   "id": "persistent-thunder",
   "metadata": {},
   "outputs": [],
   "source": [
    "c = lr.intercept_\n",
    "print(\"Intercept is : \",c)"
   ]
  },
  {
   "cell_type": "code",
   "execution_count": null,
   "id": "trained-lying",
   "metadata": {},
   "outputs": [],
   "source": [
    "# Lets fit the line equation as below,\n",
    "\n",
    "line = m*X+c\n",
    "print(line)"
   ]
  },
  {
   "cell_type": "markdown",
   "id": "advanced-birmingham",
   "metadata": {},
   "source": [
    "#### Lets check the new line"
   ]
  },
  {
   "cell_type": "code",
   "execution_count": null,
   "id": "careful-chambers",
   "metadata": {},
   "outputs": [],
   "source": [
    "plt.scatter(X, y, color='red')\n",
    "plt.plot(X, line, color='green')\n",
    "plt.show()"
   ]
  },
  {
   "cell_type": "markdown",
   "id": "variable-brisbane",
   "metadata": {},
   "source": [
    "As we can say from the above fitted line, Our model is ready to predict the new possible outcomes using the previous data."
   ]
  },
  {
   "cell_type": "code",
   "execution_count": null,
   "id": "occupational-server",
   "metadata": {},
   "outputs": [],
   "source": []
  },
  {
   "cell_type": "markdown",
   "id": "critical-pathology",
   "metadata": {},
   "source": [
    "#### Lets predict the outcomes"
   ]
  },
  {
   "cell_type": "code",
   "execution_count": null,
   "id": "dominant-facial",
   "metadata": {},
   "outputs": [],
   "source": [
    "# Predicting the scores from earlier splitted Test dataset.\n",
    "\n",
    "y_pred = lr.predict(X_test)"
   ]
  },
  {
   "cell_type": "code",
   "execution_count": null,
   "id": "buried-ukraine",
   "metadata": {},
   "outputs": [],
   "source": [
    "pd.DataFrame({'Actual Score' : y_test, 'Predicted Score' : y_pred})"
   ]
  },
  {
   "cell_type": "markdown",
   "id": "hispanic-blend",
   "metadata": {},
   "source": [
    "We have completed the prediction part by using test data from the dataset. Now lets check the Predicted Values by comparing the actual value."
   ]
  },
  {
   "cell_type": "markdown",
   "id": "domestic-maria",
   "metadata": {},
   "source": [
    "#### Lets Evaluate the momdel"
   ]
  },
  {
   "cell_type": "code",
   "execution_count": null,
   "id": "departmental-hollywood",
   "metadata": {},
   "outputs": [],
   "source": [
    "mean_absolute_error(y_test, y_pred)"
   ]
  },
  {
   "cell_type": "code",
   "execution_count": null,
   "id": "temporal-classics",
   "metadata": {},
   "outputs": [],
   "source": []
  },
  {
   "cell_type": "markdown",
   "id": "statutory-criterion",
   "metadata": {},
   "source": [
    "### Lets check the predictions"
   ]
  },
  {
   "cell_type": "code",
   "execution_count": null,
   "id": "deluxe-prague",
   "metadata": {},
   "outputs": [],
   "source": [
    "reading_hours = float(input(\"Enter the Hours you want to check for score : \"))\n",
    "predicted_score = lr.predict(np.array(reading_hours).reshape(1, -1))"
   ]
  },
  {
   "cell_type": "code",
   "execution_count": null,
   "id": "conceptual-eligibility",
   "metadata": {},
   "outputs": [],
   "source": []
  },
  {
   "cell_type": "code",
   "execution_count": null,
   "id": "bridal-catering",
   "metadata": {},
   "outputs": [],
   "source": [
    "print(f\"You have entered Predicted Reading Hours : {reading_hours}\")\n",
    "print(f\"As per your Predicted Reading Hours, Predicted Score is : {predicted_score}\")"
   ]
  },
  {
   "cell_type": "code",
   "execution_count": null,
   "id": "convinced-hydrogen",
   "metadata": {},
   "outputs": [],
   "source": []
  }
 ],
 "metadata": {
  "kernelspec": {
   "display_name": "Python 3.7.7 64-bit",
   "language": "python",
   "name": "python37764bitd722179cc89842a6b3a2173ea3f96b4b"
  },
  "language_info": {
   "codemirror_mode": {
    "name": "ipython",
    "version": 3
   },
   "file_extension": ".py",
   "mimetype": "text/x-python",
   "name": "python",
   "nbconvert_exporter": "python",
   "pygments_lexer": "ipython3",
   "version": "3.7.7"
  }
 },
 "nbformat": 4,
 "nbformat_minor": 5
}
